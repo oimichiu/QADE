{
 "cells": [
  {
   "cell_type": "code",
   "execution_count": 1,
   "metadata": {},
   "outputs": [],
   "source": [
    "# the object at the heart of Qiskit is the quantum circuit\n",
    "from qiskit import QuantumCircuit\n",
    "qc = QuantumCircuit()"
   ]
  },
  {
   "cell_type": "code",
   "execution_count": 2,
   "metadata": {},
   "outputs": [],
   "source": [
    "# Quantum register\n",
    "from qiskit import QuantumRegister\n",
    "qr = QuantumRegister(2, 'a') # 'a' is a label - optional"
   ]
  },
  {
   "cell_type": "code",
   "execution_count": 3,
   "metadata": {},
   "outputs": [
    {
     "data": {
      "text/plain": [
       "[QuantumRegister(2, 'a')]"
      ]
     },
     "execution_count": 3,
     "metadata": {},
     "output_type": "execute_result"
    }
   ],
   "source": [
    "# add the register to the qc, using add_register method and \n",
    "# than checking with qregs varible\n",
    "\n",
    "qc.add_register(qr)\n",
    "\n",
    "qc.qregs"
   ]
  },
  {
   "cell_type": "code",
   "execution_count": 4,
   "metadata": {},
   "outputs": [
    {
     "data": {
      "text/html": [
       "<pre style=\"word-wrap: normal;white-space: pre;background: #fff0;line-height: 1.1;font-family: &quot;Courier New&quot;,Courier,monospace\">     \n",
       "a_0: \n",
       "     \n",
       "a_1: \n",
       "     </pre>"
      ],
      "text/plain": [
       "     \n",
       "a_0: \n",
       "     \n",
       "a_1: \n",
       "     "
      ]
     },
     "execution_count": 4,
     "metadata": {},
     "output_type": "execute_result"
    }
   ],
   "source": [
    "qc.draw()"
   ]
  },
  {
   "cell_type": "code",
   "execution_count": 5,
   "metadata": {},
   "outputs": [
    {
     "data": {
      "image/png": "[encoded data removed]",
      "text/plain": [
       "<Figure size 86.1612x144.48 with 1 Axes>"
      ]
     },
     "execution_count": 5,
     "metadata": {},
     "output_type": "execute_result"
    }
   ],
   "source": [
    "qc.draw(output='mpl')\n",
    "# the qubits are in the state |0>"
   ]
  },
  {
   "cell_type": "code",
   "execution_count": 6,
   "metadata": {},
   "outputs": [
    {
     "data": {
      "text/plain": [
       "<qiskit.circuit.instructionset.InstructionSet at 0x1dc732bef98>"
      ]
     },
     "execution_count": 6,
     "metadata": {},
     "output_type": "execute_result"
    }
   ],
   "source": [
    "# applying gates\n",
    "qc.h(qr[0])"
   ]
  },
  {
   "cell_type": "code",
   "execution_count": 7,
   "metadata": {},
   "outputs": [],
   "source": [
    "# apply a CNOT gate\n",
    "qc.cx(qr[0], qr[1]);"
   ]
  },
  {
   "cell_type": "code",
   "execution_count": 8,
   "metadata": {},
   "outputs": [
    {
     "data": {
      "image/png": "[encoded data removed]",
      "text/plain": [
       "<Figure size 206.561x144.48 with 1 Axes>"
      ]
     },
     "execution_count": 8,
     "metadata": {},
     "output_type": "execute_result"
    }
   ],
   "source": [
    "qc.draw(output='mpl')"
   ]
  },
  {
   "cell_type": "code",
   "execution_count": 9,
   "metadata": {},
   "outputs": [],
   "source": [
    "# Statevector simulator\n",
    "# we will use the 'statevector simulator' to see what is happeing\n",
    "# to the state vector of the 2 qubits\n",
    "\n",
    "from qiskit import Aer\n",
    "sv_sim = Aer.get_backend('statevector_simulator')\n",
    "\n",
    "# we use 'backend' to refer to the things on which quantum programs\n",
    "# actually run(simulators or real quantum devices)"
   ]
  },
  {
   "cell_type": "code",
   "execution_count": 10,
   "metadata": {},
   "outputs": [
    {
     "name": "stdout",
     "output_type": "stream",
     "text": [
      "qasm_simulator\n",
      "statevector_simulator\n",
      "unitary_simulator\n",
      "pulse_simulator\n"
     ]
    }
   ],
   "source": [
    "for backend in Aer.backends():\n",
    "    print(backend)"
   ]
  },
  {
   "cell_type": "code",
   "execution_count": 11,
   "metadata": {},
   "outputs": [],
   "source": [
    "# we use the '.run()' method of the backend we want to use (in this case\n",
    "# a simulator) to run the experiment.\n",
    "\n",
    "from qiskit import assemble\n",
    "qobj = assemble(qc)\n",
    "job = sv_sim.run(qobj)"
   ]
  },
  {
   "cell_type": "code",
   "execution_count": 12,
   "metadata": {},
   "outputs": [
    {
     "name": "stdout",
     "output_type": "stream",
     "text": [
      "(0.7071067811865476+0j)\n",
      "0j\n",
      "0j\n",
      "(0.7071067811865476+0j)\n"
     ]
    }
   ],
   "source": [
    "# extract the result, specifically we want the state vector\n",
    "\n",
    "ket = job.result().get_statevector()\n",
    "for amplitude in ket:\n",
    "    print(amplitude)\n",
    "    \n",
    "# this is the vector for a Bell state (|00> + |11>/sqrt(2))"
   ]
  },
  {
   "cell_type": "code",
   "execution_count": 13,
   "metadata": {},
   "outputs": [],
   "source": [
    "# it is possible to initialize a circuit with an arbitrary pure state\n",
    "\n",
    "new_qc = QuantumCircuit(qr)\n",
    "\n",
    "new_qc.initialize(ket, qr);"
   ]
  },
  {
   "cell_type": "code",
   "execution_count": 14,
   "metadata": {},
   "outputs": [],
   "source": [
    "# Classical registers and the qsam simulator\n",
    "# in the above simulation. we got out a statevector. that's not what we get from\n",
    "# a real quantum computer. For that we need a measurement. And to handle measurement\n",
    "# we need to define where the results will go.\n",
    "# This is done with a 'ClassicalRegister'\n",
    "\n",
    "from qiskit import ClassicalRegister\n",
    "cr = ClassicalRegister(2, 'creg')\n",
    "\n",
    "qc.add_register(cr)"
   ]
  },
  {
   "cell_type": "code",
   "execution_count": 15,
   "metadata": {},
   "outputs": [
    {
     "data": {
      "image/png": "[encoded data removed]",
      "text/plain": [
       "<Figure size 347.01x204.68 with 1 Axes>"
      ]
     },
     "execution_count": 15,
     "metadata": {},
     "output_type": "execute_result"
    }
   ],
   "source": [
    "# Let's measure both qubits, and write their results in different bits.\n",
    "\n",
    "qc.measure(qr[0], cr[0])\n",
    "qc.measure(qr[1], cr[1])\n",
    "\n",
    "qc.draw(output='mpl')"
   ]
  },
  {
   "cell_type": "code",
   "execution_count": 16,
   "metadata": {},
   "outputs": [],
   "source": [
    "# we can run on a lcal simulator\n",
    "# need to add 'shots' input to the 'assemble' function\n",
    "# default value is 1024\n",
    "\n",
    "qasm_sim = Aer.get_backend('qasm_simulator')\n",
    "qobj = assemble(qc, shots=8192)\n",
    "job = qasm_sim.run(qobj)"
   ]
  },
  {
   "cell_type": "code",
   "execution_count": 17,
   "metadata": {},
   "outputs": [
    {
     "name": "stdout",
     "output_type": "stream",
     "text": [
      "{'00': 4179, '11': 4013}\n"
     ]
    }
   ],
   "source": [
    "# results are essentially a histogram in the form of a Python dictionary\n",
    "\n",
    "hist = job.result().get_counts()\n",
    "print(hist)"
   ]
  },
  {
   "cell_type": "code",
   "execution_count": 18,
   "metadata": {},
   "outputs": [
    {
     "data": {
      "image/png": "[encoded data removed]",
      "text/plain": [
       "<Figure size 504x360 with 1 Axes>"
      ]
     },
     "execution_count": 18,
     "metadata": {},
     "output_type": "execute_result"
    }
   ],
   "source": [
    "from qiskit.visualization import plot_histogram\n",
    "\n",
    "plot_histogram(hist)"
   ]
  },
  {
   "cell_type": "code",
   "execution_count": 20,
   "metadata": {},
   "outputs": [
    {
     "name": "stdout",
     "output_type": "stream",
     "text": [
      "['00', '00', '11', '00', '00', '00', '00', '00', '11', '11']\n"
     ]
    }
   ],
   "source": [
    "# for compatible backends we can also ask for and get the ordered list of results\n",
    "\n",
    "qobj = assemble(qc, shots=10)\n",
    "job = qasm_sim.run(qobj, memory=True)\n",
    "samples = job.result().get_memory()\n",
    "print(samples)"
   ]
  },
  {
   "cell_type": "code",
   "execution_count": 21,
   "metadata": {},
   "outputs": [
    {
     "data": {
      "text/plain": [
       "{'10000000': 8192}"
      ]
     },
     "execution_count": 21,
     "metadata": {},
     "output_type": "execute_result"
    }
   ],
   "source": [
    "qubit = QuantumRegister(8)\n",
    "bit = ClassicalRegister(8)\n",
    "qc_2 = QuantumCircuit(qubit, bit)\n",
    "\n",
    "qc_2.x(qubit[7])\n",
    "qc_2.measure(qubit,bit) # this is a way to do all the qc.measure(qr8[j],cr8[j]) at once\n",
    "\n",
    "qobj = assemble(qc_2, shots=8192)\n",
    "qasm_sim.run(qobj).result().get_counts()\n",
    "\n",
    "# the string we get in our result is the binary for 2^7 because it has\n",
    "# a 1 for the bit numbered 7."
   ]
  },
  {
   "cell_type": "code",
   "execution_count": 22,
   "metadata": {},
   "outputs": [],
   "source": [
    "# Simplified notation\n",
    "\n",
    "qc = QuantumCircuit(3)"
   ]
  },
  {
   "cell_type": "code",
   "execution_count": 24,
   "metadata": {},
   "outputs": [
    {
     "data": {
      "image/png": "[encoded data removed]",
      "text/plain": [
       "<Figure size 146.797x204.68 with 1 Axes>"
      ]
     },
     "execution_count": 24,
     "metadata": {},
     "output_type": "execute_result"
    }
   ],
   "source": [
    "qc.h(1)\n",
    "qc.draw(output='mpl')"
   ]
  },
  {
   "cell_type": "code",
   "execution_count": 25,
   "metadata": {},
   "outputs": [],
   "source": [
    "qc = QuantumCircuit(2,1)"
   ]
  },
  {
   "cell_type": "code",
   "execution_count": 26,
   "metadata": {},
   "outputs": [
    {
     "data": {
      "image/png": "[encoded data removed]",
      "text/plain": [
       "<Figure size 267.052x204.68 with 1 Axes>"
      ]
     },
     "execution_count": 26,
     "metadata": {},
     "output_type": "execute_result"
    }
   ],
   "source": [
    "qc.h(0)\n",
    "qc.cx(0,1)\n",
    "qc.measure(1,0)\n",
    "\n",
    "qc.draw(output='mpl')"
   ]
  },
  {
   "cell_type": "code",
   "execution_count": 27,
   "metadata": {},
   "outputs": [
    {
     "data": {
      "image/png": "[encoded data removed]",
      "text/plain": [
       "<Figure size 327.397x204.68 with 1 Axes>"
      ]
     },
     "execution_count": 27,
     "metadata": {},
     "output_type": "execute_result"
    }
   ],
   "source": [
    "# Creating custom gates\n",
    "\n",
    "sub_circuit = QuantumCircuit(3, name='toggle_cx')\n",
    "sub_circuit.cx(0,1)\n",
    "sub_circuit.cx(1,2)\n",
    "sub_circuit.cx(0,1)\n",
    "sub_circuit.cx(1,2)\n",
    "\n",
    "sub_circuit.draw(output='mpl')"
   ]
  },
  {
   "cell_type": "code",
   "execution_count": 28,
   "metadata": {},
   "outputs": [],
   "source": [
    "# we can now turn this into a gate\n",
    "\n",
    "toggle_cx = sub_circuit.to_instruction()"
   ]
  },
  {
   "cell_type": "code",
   "execution_count": 29,
   "metadata": {},
   "outputs": [
    {
     "data": {
      "image/png": "[encoded data removed]",
      "text/plain": [
       "<Figure size 220.123x264.88 with 1 Axes>"
      ]
     },
     "execution_count": 29,
     "metadata": {},
     "output_type": "execute_result"
    }
   ],
   "source": [
    "# insert into other circuits\n",
    "qr = QuantumRegister(4)\n",
    "new_qc = QuantumCircuit(qr)\n",
    "\n",
    "new_qc.append(toggle_cx, [qr[1],qr[2],qr[3]])\n",
    "\n",
    "new_qc.draw(output='mpl')"
   ]
  },
  {
   "cell_type": "code",
   "execution_count": 30,
   "metadata": {},
   "outputs": [
    {
     "data": {
      "text/plain": [
       "<AccountProvider for IBMQ(hub='ibm-q', group='open', project='main')>"
      ]
     },
     "execution_count": 30,
     "metadata": {},
     "output_type": "execute_result"
    }
   ],
   "source": [
    "# Accessing on real quantum hardware\n",
    "\n",
    "from qiskit import IBMQ\n",
    "IBMQ.load_account()"
   ]
  },
  {
   "cell_type": "code",
   "execution_count": 31,
   "metadata": {},
   "outputs": [
    {
     "name": "stdout",
     "output_type": "stream",
     "text": [
      "ibmq_qasm_simulator\n",
      "ibmqx2\n",
      "ibmq_16_melbourne\n",
      "ibmq_armonk\n",
      "ibmq_athens\n",
      "ibmq_santiago\n",
      "ibmq_lima\n",
      "ibmq_belem\n",
      "ibmq_quito\n",
      "simulator_statevector\n",
      "simulator_mps\n",
      "simulator_extended_stabilizer\n",
      "simulator_stabilizer\n"
     ]
    }
   ],
   "source": [
    "# see what additional backends are available\n",
    "\n",
    "provider = IBMQ.get_provider(hub='ibm-q')\n",
    "for backend in provider.backends():\n",
    "    print(backend)"
   ]
  },
  {
   "cell_type": "code",
   "execution_count": 32,
   "metadata": {},
   "outputs": [
    {
     "name": "stdout",
     "output_type": "stream",
     "text": [
      "{'backend_name': 'ibmq_qasm_simulator', 'backend_version': '0.1.547', 'operational': True, 'pending_jobs': 3, 'status_msg': 'active'}\n",
      "{'backend_name': 'ibmqx2', 'backend_version': '2.3.4', 'operational': False, 'pending_jobs': 2069, 'status_msg': 'maintenance'}\n",
      "{'backend_name': 'ibmq_16_melbourne', 'backend_version': '2.3.14', 'operational': True, 'pending_jobs': 8311, 'status_msg': 'active'}\n",
      "{'backend_name': 'ibmq_armonk', 'backend_version': '2.4.3', 'operational': True, 'pending_jobs': 25, 'status_msg': 'active'}\n",
      "{'backend_name': 'ibmq_athens', 'backend_version': '1.3.13', 'operational': True, 'pending_jobs': 6491, 'status_msg': 'active'}\n",
      "{'backend_name': 'ibmq_santiago', 'backend_version': '1.3.14', 'operational': True, 'pending_jobs': 5030, 'status_msg': 'active'}\n",
      "{'backend_name': 'ibmq_lima', 'backend_version': '1.0.5', 'operational': True, 'pending_jobs': 7, 'status_msg': 'active'}\n",
      "{'backend_name': 'ibmq_belem', 'backend_version': '1.0.3', 'operational': True, 'pending_jobs': 17, 'status_msg': 'active'}\n",
      "{'backend_name': 'ibmq_quito', 'backend_version': '1.0.8', 'operational': True, 'pending_jobs': 459, 'status_msg': 'active'}\n",
      "{'backend_name': 'simulator_statevector', 'backend_version': '0.1.547', 'operational': True, 'pending_jobs': 3, 'status_msg': 'active'}\n",
      "{'backend_name': 'simulator_mps', 'backend_version': '0.1.547', 'operational': True, 'pending_jobs': 3, 'status_msg': 'active'}\n",
      "{'backend_name': 'simulator_extended_stabilizer', 'backend_version': '0.1.547', 'operational': True, 'pending_jobs': 3, 'status_msg': 'active'}\n",
      "{'backend_name': 'simulator_stabilizer', 'backend_version': '0.1.547', 'operational': True, 'pending_jobs': 3, 'status_msg': 'active'}\n"
     ]
    }
   ],
   "source": [
    "# we can see what they are up to with the 'status()' method\n",
    "\n",
    "for backend in provider.backends():\n",
    "    print(backend.status().to_dict())"
   ]
  },
  {
   "cell_type": "code",
   "execution_count": 33,
   "metadata": {},
   "outputs": [],
   "source": [
    "real_device = provider.get_backend('ibmq_16_melbourne')"
   ]
  },
  {
   "cell_type": "code",
   "execution_count": 34,
   "metadata": {},
   "outputs": [],
   "source": [
    "propoerties = real_device.properties()\n",
    "coupling_map = real_device.configuration().coupling_map"
   ]
  },
  {
   "cell_type": "code",
   "execution_count": 35,
   "metadata": {},
   "outputs": [],
   "source": [
    "# from this we can construct a noise model to mimic the noise on the device\n",
    "\n",
    "from qiskit.test.mock import FakeAthens\n",
    "athens = FakeAthens()"
   ]
  },
  {
   "cell_type": "code",
   "execution_count": 36,
   "metadata": {},
   "outputs": [
    {
     "data": {
      "image/png": "[encoded data removed]",
      "text/plain": [
       "<Figure size 779.079x445.48 with 1 Axes>"
      ]
     },
     "execution_count": 36,
     "metadata": {},
     "output_type": "execute_result"
    }
   ],
   "source": [
    "# run the job on the emulator, with it repdoucing all these features of the real device\n",
    "\n",
    "qc = QuantumCircuit(5,5)\n",
    "qc.x(0)\n",
    "\n",
    "for q in range(4):\n",
    "    qc.cx(0,q+1)\n",
    "    \n",
    "qc.measure_all()\n",
    "qc.draw(output='mpl')"
   ]
  },
  {
   "cell_type": "code",
   "execution_count": 37,
   "metadata": {},
   "outputs": [
    {
     "data": {
      "image/png": "[encoded data removed]",
      "text/plain": [
       "<Figure size 360x360 with 1 Axes>"
      ]
     },
     "execution_count": 37,
     "metadata": {},
     "output_type": "execute_result"
    }
   ],
   "source": [
    "from qiskit.visualization import plot_gate_map\n",
    "plot_gate_map(athens)"
   ]
  },
  {
   "cell_type": "code",
   "execution_count": 38,
   "metadata": {},
   "outputs": [
    {
     "data": {
      "image/png": "[encoded data removed]",
      "text/plain": [
       "<Figure size 1328.53x445.48 with 1 Axes>"
      ]
     },
     "execution_count": 38,
     "metadata": {},
     "output_type": "execute_result"
    }
   ],
   "source": [
    "from qiskit import transpile\n",
    "t_qc = transpile(qc, athens)\n",
    "t_qc.draw(output='mpl')"
   ]
  },
  {
   "cell_type": "code",
   "execution_count": 39,
   "metadata": {},
   "outputs": [
    {
     "data": {
      "image/png": "[encoded data removed]",
      "text/plain": [
       "<Figure size 504x360 with 1 Axes>"
      ]
     },
     "execution_count": 39,
     "metadata": {},
     "output_type": "execute_result"
    }
   ],
   "source": [
    "qobj = assemble(t_qc)\n",
    "counts = athens.run(qobj).result().get_counts()\n",
    "plot_histogram(counts)"
   ]
  },
  {
   "cell_type": "code",
   "execution_count": 40,
   "metadata": {},
   "outputs": [
    {
     "data": {
      "text/plain": [
       "{'qiskit-terra': '0.16.4',\n",
       " 'qiskit-aer': '0.7.6',\n",
       " 'qiskit-ignis': '0.5.2',\n",
       " 'qiskit-ibmq-provider': '0.12.1',\n",
       " 'qiskit-aqua': '0.8.2',\n",
       " 'qiskit': '0.24.0'}"
      ]
     },
     "execution_count": 40,
     "metadata": {},
     "output_type": "execute_result"
    }
   ],
   "source": [
    "import qiskit\n",
    "qiskit.__qiskit_version__"
   ]
  },
  {
   "cell_type": "code",
   "execution_count": null,
   "metadata": {},
   "outputs": [],
   "source": []
  }
 ],
 "metadata": {
  "kernelspec": {
   "display_name": "Python 3",
   "language": "python",
   "name": "python3"
  },
  "language_info": {
   "codemirror_mode": {
    "name": "ipython",
    "version": 3
   },
   "file_extension": ".py",
   "mimetype": "text/x-python",
   "name": "python",
   "nbconvert_exporter": "python",
   "pygments_lexer": "ipython3",
   "version": "3.7.3"
  }
 },
 "nbformat": 4,
 "nbformat_minor": 4
}
