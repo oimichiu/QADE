{
 "cells": [
  {
   "cell_type": "code",
   "execution_count": 1,
   "metadata": {},
   "outputs": [
    {
     "name": "stdout",
     "output_type": "stream",
     "text": [
      "98% of the means lies in the estimated range: (0.47002513885111236, 0.5300632456646329)\n",
      " 11.168941 seconds (10.45 M allocations: 7.997 GiB, 9.59% gc time)\n"
     ]
    }
   ],
   "source": [
    "# Slow code example\n",
    "using Statistics\n",
    "\n",
    "@time begin\n",
    "    data = Float64[]\n",
    "        for _ in 1:10^6\n",
    "            group = Float64[]\n",
    "                for _ in 1:5*10^2\n",
    "                    push!(group, rand())\n",
    "                end\n",
    "            push!(data,mean(group))\n",
    "        end\n",
    "    println(\"98% of the means lies in the estimated range: \",\n",
    "            (quantile(data,0.01), quantile(data,0.99)) )\n",
    "end"
   ]
  },
  {
   "cell_type": "code",
   "execution_count": null,
   "metadata": {},
   "outputs": [],
   "source": []
  }
 ],
 "metadata": {
  "kernelspec": {
   "display_name": "Julia 1.5.3",
   "language": "julia",
   "name": "julia-1.5"
  },
  "language_info": {
   "file_extension": ".jl",
   "mimetype": "application/julia",
   "name": "julia",
   "version": "1.5.3"
  }
 },
 "nbformat": 4,
 "nbformat_minor": 4
}
