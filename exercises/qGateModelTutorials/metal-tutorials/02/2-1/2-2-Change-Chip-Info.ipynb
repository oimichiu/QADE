{
 "cells": [
  {
   "cell_type": "code",
   "execution_count": 1,
   "id": "adapted-retailer",
   "metadata": {},
   "outputs": [],
   "source": [
    "# Changing the Chip Information\n",
    "\n",
    "%load_ext autoreload\n",
    "%autoreload 2"
   ]
  },
  {
   "cell_type": "code",
   "execution_count": 2,
   "id": "false-handy",
   "metadata": {},
   "outputs": [
    {
     "data": {
      "text/html": [
       "\n",
       "    <h1 style=\"\n",
       "        background: #12c2e9;  /* fallback for old browsers */\n",
       "        background: -webkit-linear-gradient(to right, #d4418e 0%, #0652c5 74%);  /* Chrome 10-25, Safari 5.1-6 */\n",
       "        background: linear-gradient(315deg, #d4418e 0%, #0652c5 74%); /* W3C, IE 10+/ Edge, Firefox 16+, Chrome 26+, Opera 12+, Safari 7+ */\n",
       "        margin-top: 50px;\n",
       "        border-style: outset;\n",
       "        padding-top:100px;\n",
       "        padding-bottom:50px;\n",
       "        padding-left:25px;\n",
       "        color: white;\n",
       "    \"> Welcome to Qiskit Metal! <h1>\n",
       "        "
      ],
      "text/plain": [
       "<IPython.core.display.HTML object>"
      ]
     },
     "metadata": {},
     "output_type": "display_data"
    }
   ],
   "source": [
    "import qiskit_metal as metal\n",
    "from qiskit_metal import designs, draw\n",
    "from qiskit_metal import Dict, open_docs\n",
    "\n",
    "%metal_heading Welcome to Qiskit Metal!"
   ]
  },
  {
   "cell_type": "code",
   "execution_count": 3,
   "id": "ordinary-fellowship",
   "metadata": {},
   "outputs": [],
   "source": [
    "design = designs.DesignPlanar()"
   ]
  },
  {
   "cell_type": "code",
   "execution_count": 4,
   "id": "italian-ideal",
   "metadata": {},
   "outputs": [],
   "source": [
    "# select QComponent\n",
    "from qiskit_metal.qlibrary.qubits.transmon_pocket import TransmonPocket"
   ]
  },
  {
   "cell_type": "code",
   "execution_count": 5,
   "id": "rural-bacteria",
   "metadata": {},
   "outputs": [],
   "source": [
    "# create qcomponent object with 'Q1'\n",
    "q1 = TransmonPocket(design, 'Q1')"
   ]
  },
  {
   "cell_type": "code",
   "execution_count": 6,
   "id": "proper-moscow",
   "metadata": {},
   "outputs": [
    {
     "data": {
      "text/plain": [
       "dict_keys(['main'])"
      ]
     },
     "execution_count": 6,
     "metadata": {},
     "output_type": "execute_result"
    }
   ],
   "source": [
    "design.chips.keys()"
   ]
  },
  {
   "cell_type": "code",
   "execution_count": 7,
   "id": "younger-payroll",
   "metadata": {},
   "outputs": [
    {
     "data": {
      "text/plain": [
       "{'material': 'silicon',\n",
       " 'layer_start': '0',\n",
       " 'layer_end': '2048',\n",
       " 'size': {'center_x': '0.0mm',\n",
       "  'center_y': '0.0mm',\n",
       "  'center_z': '0.0mm',\n",
       "  'size_x': '9mm',\n",
       "  'size_y': '6mm',\n",
       "  'size_z': '-750um',\n",
       "  'sample_holder_top': '890um',\n",
       "  'sample_holder_bottom': '1650um'}}"
      ]
     },
     "execution_count": 7,
     "metadata": {},
     "output_type": "execute_result"
    }
   ],
   "source": [
    "design.chips.main"
   ]
  },
  {
   "cell_type": "code",
   "execution_count": 8,
   "id": "altered-individual",
   "metadata": {},
   "outputs": [],
   "source": [
    "# change the material\n",
    "design.chips.main.material = ['germanium']\n",
    "design.rebuild()"
   ]
  },
  {
   "cell_type": "code",
   "execution_count": 9,
   "id": "fiscal-express",
   "metadata": {},
   "outputs": [
    {
     "data": {
      "text/plain": [
       "{'material': ['germanium'],\n",
       " 'layer_start': '0',\n",
       " 'layer_end': '2048',\n",
       " 'size': {'center_x': '0.0mm',\n",
       "  'center_y': '0.0mm',\n",
       "  'center_z': '0.0mm',\n",
       "  'size_x': '9mm',\n",
       "  'size_y': '6mm',\n",
       "  'size_z': '-750um',\n",
       "  'sample_holder_top': '890um',\n",
       "  'sample_holder_bottom': '1650um'}}"
      ]
     },
     "execution_count": 9,
     "metadata": {},
     "output_type": "execute_result"
    }
   ],
   "source": [
    "design.chips.main"
   ]
  },
  {
   "cell_type": "code",
   "execution_count": 10,
   "id": "opened-willow",
   "metadata": {},
   "outputs": [
    {
     "data": {
      "text/plain": [
       "{'center_x': '0.0mm',\n",
       " 'center_y': '0.0mm',\n",
       " 'center_z': '0.0mm',\n",
       " 'size_x': '9mm',\n",
       " 'size_y': '6mm',\n",
       " 'size_z': '-750um',\n",
       " 'sample_holder_top': '890um',\n",
       " 'sample_holder_bottom': '1650um'}"
      ]
     },
     "execution_count": 10,
     "metadata": {},
     "output_type": "execute_result"
    }
   ],
   "source": [
    "design.chips.main.size"
   ]
  },
  {
   "cell_type": "code",
   "execution_count": 28,
   "id": "original-marking",
   "metadata": {
    "scrolled": false
   },
   "outputs": [
    {
     "name": "stderr",
     "output_type": "stream",
     "text": [
      "04:07PM 38s WARNING [import_junctions_to_one_cell]: Not able to find file:\"C:/Users/ovidi/Projects/IBMQX/github-qiskit-metal/tutorial-metal/02/2-1/\".  Not used to replace junction. Checked directory:\"C:\\Users\\ovidi\\Projects\\IBMQX\\github-qiskit-metal\\tutorial-metal\\02\".\n",
      "04:07PM 38s WARNING [cheese_buffer_maker]: The bounding box for no-cheese is outside of chip size.\n",
      "Bounding box for chip is (0.0, -1.0, 9.0, 5.0).\n",
      "Bounding box with no_cheese buffer is (-0.35000000000000003, -0.35000000000000003, 0.35000000000000003, 0.35000000000000003).\n"
     ]
    },
    {
     "data": {
      "text/plain": [
       "1"
      ]
     },
     "execution_count": 28,
     "metadata": {},
     "output_type": "execute_result"
    }
   ],
   "source": [
    "# Reset the wafer material to silicon\n",
    "\n",
    "design.chips.main.material = ['silicon']\n",
    "design.rebuild()\n",
    "\n",
    "# Export the current file to a GDS file\n",
    "a_gds = design.renderers.gds\n",
    "a_gds.options['path_filename'] = 'C:/Users/ovidi/Projects/IBMQX/github-qiskit-metal/tutorial-metal/02/2-1/'\n",
    "# a_gds.options['path_filename'] = '../../resources/Fake_Junctions.GDS'\n",
    "\n",
    "# a_gds.options['path_filename'] = 'C:/Users/ovidi/Projects/IBMQX/github-qiskit-metal/tutorial-metal/02/2-1'\n",
    "\n",
    "\n",
    "design.renderers.gds.export_to_gds(\"Before_size_change.gds\")"
   ]
  },
  {
   "cell_type": "code",
   "execution_count": 29,
   "id": "adjacent-technology",
   "metadata": {},
   "outputs": [],
   "source": [
    "design.chips.main.size['size_x'] = '15mm'\n",
    "design.chips.main.size['size_y'] = '10mm'\n",
    "design.rebuild()"
   ]
  },
  {
   "cell_type": "code",
   "execution_count": 30,
   "id": "polyphonic-guarantee",
   "metadata": {},
   "outputs": [
    {
     "name": "stderr",
     "output_type": "stream",
     "text": [
      "04:07PM 49s WARNING [import_junctions_to_one_cell]: Not able to find file:\"C:/Users/ovidi/Projects/IBMQX/github-qiskit-metal/tutorial-metal/02/2-1/\".  Not used to replace junction. Checked directory:\"C:\\Users\\ovidi\\Projects\\IBMQX\\github-qiskit-metal\\tutorial-metal\\02\".\n"
     ]
    },
    {
     "data": {
      "text/plain": [
       "1"
      ]
     },
     "execution_count": 30,
     "metadata": {},
     "output_type": "execute_result"
    }
   ],
   "source": [
    "design.renderers.gds.export_to_gds(\"After_size_x_y_change.gds\")"
   ]
  },
  {
   "cell_type": "code",
   "execution_count": 25,
   "id": "centered-watson",
   "metadata": {
    "scrolled": true
   },
   "outputs": [
    {
     "name": "stderr",
     "output_type": "stream",
     "text": [
      "04:04PM 08s WARNING [import_junctions_to_one_cell]: Not able to find file:\"C:/Users/ovidi/Projects/IBMQX/github-qiskit-metal/tutorial-metal/02/2-1/testGDSfile.gds\".  Not used to replace junction. Checked directory:\"C:\\Users\\ovidi\\Projects\\IBMQX\\github-qiskit-metal\\tutorial-metal\\02\\2-1\".\n",
      "04:04PM 08s WARNING [cheese_buffer_maker]: The bounding box for no-cheese is outside of chip size.\n",
      "Bounding box for chip is (0.0, -1.0, 9.0, 5.0).\n",
      "Bounding box with no_cheese buffer is (-0.35000000000000003, -0.35000000000000003, 0.35000000000000003, 0.35000000000000003).\n"
     ]
    },
    {
     "data": {
      "text/plain": [
       "1"
      ]
     },
     "execution_count": 25,
     "metadata": {},
     "output_type": "execute_result"
    }
   ],
   "source": [
    "# Reset to the original settings\n",
    "\n",
    "design.chips.main.size['size_x'] = '9mm'\n",
    "design.chips.main.size['size_y'] = '6mm'\n",
    "\n",
    "# Shift the center pf the chip\n",
    "design.chips.main.size['center_x'] = '4.5mm'\n",
    "design.chips.main.size['center_y'] = '2mm'\n",
    "design.rebuild()\n",
    "\n",
    "# Export to GDS format\n",
    "design.renderers.gds.export_to_gds(\"After_center_x_y_change.gds\")"
   ]
  },
  {
   "cell_type": "code",
   "execution_count": 31,
   "id": "continental-accessory",
   "metadata": {},
   "outputs": [
    {
     "data": {
      "text/plain": [
       "{'short_segments_to_not_fillet': 'True',\n",
       " 'check_short_segments_by_scaling_fillet': '2.0',\n",
       " 'gds_unit': 0.001,\n",
       " 'ground_plane': 'True',\n",
       " 'corners': 'circular bend',\n",
       " 'tolerance': '0.00001',\n",
       " 'precision': '0.000000001',\n",
       " 'width_LineString': '10um',\n",
       " 'path_filename': 'C:/Users/ovidi/Projects/IBMQX/github-qiskit-metal/tutorial-metal/02/2-1/',\n",
       " 'junction_pad_overlap': '5um',\n",
       " 'max_points': '199',\n",
       " 'cheese': {'datatype': '100',\n",
       "  'shape': '0',\n",
       "  'cheese_0_x': '25um',\n",
       "  'cheese_0_y': '25um',\n",
       "  'cheese_1_radius': '100um',\n",
       "  'view_in_file': {'main': {1: True}},\n",
       "  'delta_x': '100um',\n",
       "  'delta_y': '100um',\n",
       "  'edge_nocheese': '200um'},\n",
       " 'no_cheese': {'datatype': '99',\n",
       "  'buffer': '25um',\n",
       "  'cap_style': '2',\n",
       "  'join_style': '2',\n",
       "  'view_in_file': {'main': {1: True}}},\n",
       " 'bounding_box_scale_x': '1.2',\n",
       " 'bounding_box_scale_y': '1.2',\n",
       " 'path_file': '../../resources/Fake_Junctions.GDS'}"
      ]
     },
     "execution_count": 31,
     "metadata": {},
     "output_type": "execute_result"
    }
   ],
   "source": [
    "a_gds.options"
   ]
  },
  {
   "cell_type": "code",
   "execution_count": 32,
   "id": "color-witness",
   "metadata": {},
   "outputs": [],
   "source": [
    "a_gds.options.no_cheese['view_in_file']['main'] = {1:False}\n",
    "a_gds.options.cheese['view_in_file']['main'] = {1:False}"
   ]
  },
  {
   "cell_type": "code",
   "execution_count": 33,
   "id": "greenhouse-dynamics",
   "metadata": {},
   "outputs": [
    {
     "name": "stderr",
     "output_type": "stream",
     "text": [
      "04:12PM 05s WARNING [import_junctions_to_one_cell]: Not able to find file:\"C:/Users/ovidi/Projects/IBMQX/github-qiskit-metal/tutorial-metal/02/2-1/\".  Not used to replace junction. Checked directory:\"C:\\Users\\ovidi\\Projects\\IBMQX\\github-qiskit-metal\\tutorial-metal\\02\".\n"
     ]
    },
    {
     "data": {
      "text/plain": [
       "1"
      ]
     },
     "execution_count": 33,
     "metadata": {},
     "output_type": "execute_result"
    }
   ],
   "source": [
    "design.renderers.gds.export_to_gds(\"After_center_x_y_change_no_warning.gds\")"
   ]
  },
  {
   "cell_type": "code",
   "execution_count": 34,
   "id": "collective-allocation",
   "metadata": {},
   "outputs": [
    {
     "name": "stderr",
     "output_type": "stream",
     "text": [
      "04:16PM 41s WARNING [import_junctions_to_one_cell]: Not able to find file:\"C:/Users/ovidi/Projects/IBMQX/github-qiskit-metal/tutorial-metal/02/2-1/\".  Not used to replace junction. Checked directory:\"C:\\Users\\ovidi\\Projects\\IBMQX\\github-qiskit-metal\\tutorial-metal\\02\".\n"
     ]
    },
    {
     "data": {
      "text/plain": [
       "1"
      ]
     },
     "execution_count": 34,
     "metadata": {},
     "output_type": "execute_result"
    }
   ],
   "source": [
    "# Restore a_gds options\n",
    "\n",
    "a_gds.options.no_cheese['view_in_file']['main'] = {1:True}\n",
    "a_gds.options.cheese['view_in_file']['main'] = {1:True}\n",
    "\n",
    "# Shift the center of the chip to origin\n",
    "design.chips.main.size['center_x'] = '0mm'\n",
    "design.chips.main.size['center_y'] = '0mm'\n",
    "design.rebuild()\n",
    "\n",
    "# Export GDS\n",
    "design.renderers.gds.export_to_gds(\"After_reverting_x_y_change.gds\")"
   ]
  },
  {
   "cell_type": "code",
   "execution_count": null,
   "id": "eleven-processor",
   "metadata": {},
   "outputs": [],
   "source": []
  }
 ],
 "metadata": {
  "kernelspec": {
   "display_name": "Python 3",
   "language": "python",
   "name": "python3"
  },
  "language_info": {
   "codemirror_mode": {
    "name": "ipython",
    "version": 3
   },
   "file_extension": ".py",
   "mimetype": "text/x-python",
   "name": "python",
   "nbconvert_exporter": "python",
   "pygments_lexer": "ipython3",
   "version": "3.7.8"
  }
 },
 "nbformat": 4,
 "nbformat_minor": 5
}
