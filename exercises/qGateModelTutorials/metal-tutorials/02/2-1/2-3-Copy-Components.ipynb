{
 "cells": [
  {
   "cell_type": "code",
   "execution_count": 1,
   "id": "greenhouse-promise",
   "metadata": {},
   "outputs": [],
   "source": [
    "import qiskit_metal as metal\n",
    "from qiskit_metal import designs, draw\n",
    "from qiskit_metal import MetalGUI, Dict"
   ]
  },
  {
   "cell_type": "code",
   "execution_count": 2,
   "id": "medium-pressure",
   "metadata": {},
   "outputs": [],
   "source": [
    "design = designs.DesignPlanar()\n",
    "gui = MetalGUI(design)"
   ]
  },
  {
   "cell_type": "code",
   "execution_count": 3,
   "id": "positive-germany",
   "metadata": {},
   "outputs": [],
   "source": [
    "#Let's start by putting a transmon at the origin\n",
    "from qiskit_metal.qlibrary.qubits.transmon_pocket import TransmonPocket\n",
    "\n",
    "design.overwrite_enabled = True\n",
    "q1 = TransmonPocket(design, 'Q1')\n",
    "gui.rebuild()\n",
    "gui.autoscale()"
   ]
  },
  {
   "cell_type": "code",
   "execution_count": 4,
   "id": "tough-dispatch",
   "metadata": {},
   "outputs": [],
   "source": [
    "q1_copy = design.copy_qcomponent(q1, 'Q1_copy')\n",
    "q1_copy.options['pos_x'] = '1.0mm'\n",
    "gui.rebuild()\n",
    "gui.autoscale()"
   ]
  },
  {
   "cell_type": "code",
   "execution_count": 5,
   "id": "humanitarian-beaver",
   "metadata": {},
   "outputs": [],
   "source": [
    "q1_anothercopy = design.copy_qcomponent(q1, 'Q1_anoter_copy', dict(pos_x='-1.0mm'))\n",
    "gui.rebuild()\n",
    "gui.autoscale()"
   ]
  },
  {
   "cell_type": "code",
   "execution_count": 6,
   "id": "earlier-flesh",
   "metadata": {},
   "outputs": [],
   "source": [
    "newcopies = design.copy_multiple_qcomponents([q1, q1_copy, q1_anothercopy], ['Q3', 'Q4', 'Q5'], [dict(pos_y='1.0mm'), dict(pos_y='2.0mm'), dict(pos_y='3.0mm')])\n",
    "gui.rebuild()\n",
    "gui.autoscale()"
   ]
  },
  {
   "cell_type": "code",
   "execution_count": 7,
   "id": "strategic-laundry",
   "metadata": {},
   "outputs": [],
   "source": [
    "newcopies2 = design.copy_multiple_qcomponents([q1, q1_copy, q1_anothercopy], ['Q6', 'Q7', 'Q8'])\n",
    "gui.rebuild()\n",
    "gui.autoscale()"
   ]
  },
  {
   "cell_type": "code",
   "execution_count": 8,
   "id": "compatible-virtue",
   "metadata": {},
   "outputs": [],
   "source": [
    "newcopies3 = design.copy_multiple_qcomponents([q1, q1_copy, q1_anothercopy], ['Q9', 'Q10','Q11'], [dict(pos_y='-1.0mm'), dict(), dict()])\n",
    "gui.rebuild()\n",
    "gui.autoscale()"
   ]
  },
  {
   "cell_type": "code",
   "execution_count": 11,
   "id": "vanilla-bread",
   "metadata": {},
   "outputs": [
    {
     "ename": "AttributeError",
     "evalue": "'DesignPlanar' object has no attribute 'close'",
     "output_type": "error",
     "traceback": [
      "\u001b[1;31m---------------------------------------------------------------------------\u001b[0m",
      "\u001b[1;31mAttributeError\u001b[0m                            Traceback (most recent call last)",
      "\u001b[1;32m<ipython-input-11-2f400c8a39ee>\u001b[0m in \u001b[0;36m<module>\u001b[1;34m\u001b[0m\n\u001b[1;32m----> 1\u001b[1;33m \u001b[0mgui\u001b[0m\u001b[1;33m.\u001b[0m\u001b[0mdesign\u001b[0m\u001b[1;33m.\u001b[0m\u001b[0mclose\u001b[0m\u001b[1;33m(\u001b[0m\u001b[1;33m)\u001b[0m\u001b[1;33m\u001b[0m\u001b[1;33m\u001b[0m\u001b[0m\n\u001b[0m",
      "\u001b[1;31mAttributeError\u001b[0m: 'DesignPlanar' object has no attribute 'close'"
     ]
    },
    {
     "name": "stderr",
     "output_type": "stream",
     "text": [
      "05:42PM 59s CRITICAL [_qt_message_handler]: line: 0, func: None(), file: None  WARNING: QWindowsNativeFileDialogBase::selectNameFilter: Invalid parameter '*.metal' not found in 'All Files (*)'.\n",
      "\n",
      "05:42PM 59s CRITICAL [_qt_message_handler]: line: 0, func: None(), file: None  WARNING: QWindowsNativeFileDialogBase::selectNameFilter: Invalid parameter '*.metal' not found in 'All Files (*)'.\n",
      "\n",
      "05:43PM 13s WARNING [save_design]: Saving is a beta feature.\n",
      "05:43PM 13s INFO [save_design]: Saving design to C:/Users/ovidi/Projects/IBMQX/github-qiskit-metal/qiskit-metal/tutorials/2 Front End User/2.1 My first custom QComponent/2-3-my_design.metal\n",
      "05:43PM 13s WARNING [find_id]: In Components.find_id(), the name=__getstate__ is not used in design._components\n",
      "05:43PM 13s ERROR [log_error_easy]: \n",
      "\n",
      "Traceback (most recent call last):\n",
      "\n",
      "  File \"c:\\users\\ovidi\\projects\\ibmqx\\github-qiskit-metal\\qiskit-metal\\qiskit_metal\\toolbox_metal\\import_export.py\", line 52, in save_metal\n",
      "    pickle.dump(self, open(filename, \"wb\"))\n",
      "\n",
      "TypeError: 'NoneType' object is not callable\n",
      "\n",
      "ERROR WHILE SAVING: 'NoneType' object is not callable\n",
      "05:43PM 13s ERROR [save_design]: Saving failed.\n",
      "05:43PM 20s WARNING [save_design]: Saving is a beta feature.\n",
      "05:43PM 20s INFO [save_design]: Saving design to C:/Users/ovidi/Projects/IBMQX/github-qiskit-metal/qiskit-metal/tutorials/2 Front End User/2.1 My first custom QComponent/2-3-my_design.metal\n",
      "05:43PM 20s WARNING [find_id]: In Components.find_id(), the name=__getstate__ is not used in design._components\n",
      "05:43PM 20s ERROR [log_error_easy]: \n",
      "\n",
      "Traceback (most recent call last):\n",
      "\n",
      "  File \"c:\\users\\ovidi\\projects\\ibmqx\\github-qiskit-metal\\qiskit-metal\\qiskit_metal\\toolbox_metal\\import_export.py\", line 52, in save_metal\n",
      "    pickle.dump(self, open(filename, \"wb\"))\n",
      "\n",
      "TypeError: 'NoneType' object is not callable\n",
      "\n",
      "ERROR WHILE SAVING: 'NoneType' object is not callable\n",
      "05:43PM 20s ERROR [save_design]: Saving failed.\n"
     ]
    }
   ],
   "source": []
  },
  {
   "cell_type": "code",
   "execution_count": null,
   "id": "incident-helena",
   "metadata": {},
   "outputs": [],
   "source": []
  }
 ],
 "metadata": {
  "kernelspec": {
   "display_name": "Python 3",
   "language": "python",
   "name": "python3"
  },
  "language_info": {
   "codemirror_mode": {
    "name": "ipython",
    "version": 3
   },
   "file_extension": ".py",
   "mimetype": "text/x-python",
   "name": "python",
   "nbconvert_exporter": "python",
   "pygments_lexer": "ipython3",
   "version": "3.7.8"
  }
 },
 "nbformat": 4,
 "nbformat_minor": 5
}
